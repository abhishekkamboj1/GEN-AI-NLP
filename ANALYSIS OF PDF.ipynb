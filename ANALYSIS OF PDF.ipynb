{
 "cells": [
  {
   "cell_type": "code",
   "execution_count": 9,
   "id": "6e55d2c3-0c4d-4be8-be0d-6781074e1e4f",
   "metadata": {},
   "outputs": [
    {
     "name": "stdout",
     "output_type": "stream",
     "text": [
      "NLP stand for Natural Language Process.\n"
     ]
    }
   ],
   "source": [
    "# 1. Print an f-string that displays NLP stands for Natural Language Processing using the variables provided.\n",
    "NLP= \"Natural Language Process\"\n",
    "print(f\"NLP stand for {NLP}.\")"
   ]
  },
  {
   "cell_type": "code",
   "execution_count": 55,
   "id": "e4339772-1384-46ee-9bbb-7d381d80bfb7",
   "metadata": {},
   "outputs": [],
   "source": [
    "# 2. Create a file in the current working directory called contacts.txt by running the cell below."
   ]
  },
  {
   "cell_type": "code",
   "execution_count": 53,
   "id": "9eca9082-daa6-41a3-8714-55ac2491cc0e",
   "metadata": {},
   "outputs": [
    {
     "name": "stdout",
     "output_type": "stream",
     "text": [
      "Overwriting contacts.txt\n"
     ]
    }
   ],
   "source": [
    "%%writefile contacts.txt\n",
    "Name, Phone_number, Email, Address"
   ]
  },
  {
   "cell_type": "code",
   "execution_count": 65,
   "id": "72a91787-01ee-4053-80c1-43d1778adff0",
   "metadata": {},
   "outputs": [
    {
     "data": {
      "text/plain": [
       "'Name, Phone_number, Email, Address\\n'"
      ]
     },
     "execution_count": 65,
     "metadata": {},
     "output_type": "execute_result"
    }
   ],
   "source": [
    "# 3. Open the file and use .read() to save the contents of the file to a string called fields. Make sure the file is closed at the end.\n",
    "kk=open(\"contacts.txt\")\n",
    "fields=kk.read()\n",
    "fields"
   ]
  },
  {
   "cell_type": "code",
   "execution_count": 69,
   "id": "72ebad77-190f-456b-953d-a260a0fece5e",
   "metadata": {},
   "outputs": [],
   "source": [
    "#close the file\n",
    "kk.close()"
   ]
  },
  {
   "cell_type": "code",
   "execution_count": 92,
   "id": "ab7a5012-bb88-40d3-9ace-db0b329bf8cf",
   "metadata": {},
   "outputs": [
    {
     "data": {
      "text/plain": [
       "2"
      ]
     },
     "execution_count": 92,
     "metadata": {},
     "output_type": "execute_result"
    }
   ],
   "source": [
    "# 4. Use PyPDF2 to open the file Business_Proposal.pdf. Extract the text of page 2.\n",
    "#import PyPDF2\n",
    "import PyPDF2\n",
    "pdf=open(\"Business_Proposal.pdf\",'rb')\n",
    "pdf_reader=PyPDF2.PdfReader(pdf)\n",
    "len(pdf_reader.pages)"
   ]
  },
  {
   "cell_type": "code",
   "execution_count": 98,
   "id": "2d0fdb59-c4ad-4923-8c70-7b629a054afe",
   "metadata": {},
   "outputs": [],
   "source": [
    "page_two=pdf_reader.pages[1]\n",
    "page_two_read= page_two.extract_text()"
   ]
  },
  {
   "cell_type": "code",
   "execution_count": 100,
   "id": "64fe41a9-a777-49dd-b28a-819a6971382c",
   "metadata": {},
   "outputs": [
    {
     "data": {
      "text/plain": [
       "'AUTHORS:  \\nAmy Baker, Finance Chair, x345, abaker@ourcompany.com  \\nChris Donaldson, Accounting Dir., x621, cdonaldson@ourcompany.com  \\nErin Freeman, Sr. VP, x879, efreeman@ourcompany.com  '"
      ]
     },
     "execution_count": 100,
     "metadata": {},
     "output_type": "execute_result"
    }
   ],
   "source": [
    "page_two_read"
   ]
  },
  {
   "cell_type": "code",
   "execution_count": 106,
   "id": "076b3b71-5f6d-498e-ae26-17efc9e7aaba",
   "metadata": {},
   "outputs": [],
   "source": [
    "pdf.close()"
   ]
  },
  {
   "cell_type": "code",
   "execution_count": 133,
   "id": "43b16950-e1e5-42bd-ae80-3a6ba261227d",
   "metadata": {},
   "outputs": [
    {
     "name": "stdout",
     "output_type": "stream",
     "text": [
      "Name, Phone_number, Email, Address\n",
      "AUTHORS:  \n",
      "Amy Baker, Finance Chair, x345, abaker@ourcompany.com  \n",
      "Chris Donaldson, Accounting Dir., x621, cdonaldson@ourcompany.com  \n",
      "Erin Freeman, Sr. VP, x879, efreeman@ourcompany.com  AUTHORS:  \n",
      "Amy Baker, Finance Chair, x345, abaker@ourcompany.com  \n",
      "Chris Donaldson, Accounting Dir., x621, cdonaldson@ourcompany.com  \n",
      "Erin Freeman, Sr. VP, x879, efreeman@ourcompany.com  AUTHORS:  \n",
      "Amy Baker, Finance Chair, x345, abaker@ourcompany.com  \n",
      "Chris Donaldson, Accounting Dir., x621, cdonaldson@ourcompany.com  \n",
      "Erin Freeman, Sr. VP, x879, efreeman@ourcompany.com  \n"
     ]
    }
   ],
   "source": [
    "# 5. Open the file contacts.txt in append mode. Add the text of page 2 from above to contacts.txt.\n",
    "with open('contacts.txt','a+') as c:\n",
    "    c.write(page_two_read)\n",
    "    c.seek(0)\n",
    "    print(c.read())"
   ]
  },
  {
   "cell_type": "code",
   "execution_count": 138,
   "id": "e2ea1bcd-6a99-4375-a866-d98f7a61e4df",
   "metadata": {},
   "outputs": [
    {
     "data": {
      "text/plain": [
       "<re.Match object; span=(43, 64), match='abaker@ourcompany.com'>"
      ]
     },
     "execution_count": 138,
     "metadata": {},
     "output_type": "execute_result"
    }
   ],
   "source": [
    "# 6. Using the page_two_read variable created above, extract any email addresses that were contained in the file Business_Proposal.pdf.\n",
    "import re\n",
    "searching = r'\\w+@\\w+.\\w{3}'\n",
    "re.search(searching, page_two_read)"
   ]
  },
  {
   "cell_type": "code",
   "execution_count": 140,
   "id": "b3d8f781-80f1-4f97-83e6-d441afd87faa",
   "metadata": {},
   "outputs": [
    {
     "data": {
      "text/plain": [
       "['abaker@ourcompany.com',\n",
       " 'cdonaldson@ourcompany.com',\n",
       " 'efreeman@ourcompany.com']"
      ]
     },
     "execution_count": 140,
     "metadata": {},
     "output_type": "execute_result"
    }
   ],
   "source": [
    "searching = r'\\w+@\\w+.\\w{3}'\n",
    "re.findall(searching, page_two_read)"
   ]
  },
  {
   "cell_type": "code",
   "execution_count": null,
   "id": "c103a08e-fbcc-45f1-bb71-c079ec9d9738",
   "metadata": {},
   "outputs": [],
   "source": []
  },
  {
   "cell_type": "code",
   "execution_count": null,
   "id": "de9a8b83-9c2f-410e-bea5-53b7476bd2e7",
   "metadata": {},
   "outputs": [],
   "source": []
  },
  {
   "cell_type": "code",
   "execution_count": null,
   "id": "de9286fa-be23-4cd7-9d07-8f524a802bd9",
   "metadata": {},
   "outputs": [],
   "source": []
  },
  {
   "cell_type": "code",
   "execution_count": null,
   "id": "417b7f05-ab85-4d2a-b05f-0c95a765ffbb",
   "metadata": {},
   "outputs": [],
   "source": []
  }
 ],
 "metadata": {
  "kernelspec": {
   "display_name": "Python 3 (ipykernel)",
   "language": "python",
   "name": "python3"
  },
  "language_info": {
   "codemirror_mode": {
    "name": "ipython",
    "version": 3
   },
   "file_extension": ".py",
   "mimetype": "text/x-python",
   "name": "python",
   "nbconvert_exporter": "python",
   "pygments_lexer": "ipython3",
   "version": "3.12.4"
  }
 },
 "nbformat": 4,
 "nbformat_minor": 5
}
