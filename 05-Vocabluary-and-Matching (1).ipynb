{
 "cells": [
  {
   "cell_type": "code",
   "execution_count": 1,
   "id": "d28d1e46-5dfa-4071-a937-a313899a31a3",
   "metadata": {},
   "outputs": [],
   "source": [
    "# Perform standard imports\n",
    "import spacy\n",
    "nlp = spacy.load('en_core_web_sm')"
   ]
  },
  {
   "cell_type": "code",
   "execution_count": null,
   "id": "0563f1ef-5df5-49ba-9188-19657e3ecd29",
   "metadata": {},
   "outputs": [],
   "source": [
    "# Import the Match library\n",
    "from spacy.matcher import Matcher\n",
    "matcher = Matcher(nlp.vocab)"
   ]
  },
  {
   "cell_type": "code",
   "execution_count": null,
   "id": "5ff31342-420b-41d9-8330-2f292a10b412",
   "metadata": {},
   "outputs": [],
   "source": [
    "pattern1 = [{'LOWER': 'solarpower'}]\n",
    "pattern2 = [{'LOWER': 'solar'}, {'LOWER': 'power'}]\n",
    "pattern3 = [{'LOWER': 'solar'}, {'IS_PUNCT': True}, {'LOWER': 'power'}]\n",
    "\n",
    "matcher.add('SolarPower', [pattern1, pattern2, pattern3])"
   ]
  },
  {
   "cell_type": "code",
   "execution_count": null,
   "id": "d068642e-ca34-4346-bacd-ee1cf556c31a",
   "metadata": {},
   "outputs": [],
   "source": [
    "doc = nlp(u'The Solar Power industry continues to grow as demand \\\n",
    "for solarpower increases, Solar-power cars are gaining popularity.')"
   ]
  },
  {
   "cell_type": "code",
   "execution_count": null,
   "id": "b45174cf-0767-48ef-a96e-783ba6ad6f81",
   "metadata": {},
   "outputs": [],
   "source": [
    "found_matches = matcher(doc)\n",
    "print(found_matches)"
   ]
  },
  {
   "cell_type": "code",
   "execution_count": null,
   "id": "ee1321ce-4944-4302-9953-bc748e2bf0a0",
   "metadata": {},
   "outputs": [],
   "source": [
    "for match_id, start, end in found_matches:\n",
    "    string_id = nlp.vocab.strings[match_id] #get string representation\n",
    "    span = doc[start:end] #get the matched span\n",
    "    print(match_id, string_id, start, end, span.text)"
   ]
  },
  {
   "cell_type": "code",
   "execution_count": null,
   "id": "9e1a5580-3be6-4b35-bf57-bce780923acd",
   "metadata": {},
   "outputs": [],
   "source": [
    "#redefine the patterns\n",
    "pattern1 = [{'LOWER': 'solarpower'}]\n",
    "pattern2 = [{'LOWER': 'solar'}, {'IS_PUNCT': True, 'op':'*'}, {'LOWER': 'power'}]\n",
    "\n",
    "#add the new set of patterns to the 'solarpower' matchers.\n",
    "\n",
    "matcher.add ('solarpower', [pattern1, pattern2]) "
   ]
  },
  {
   "cell_type": "code",
   "execution_count": null,
   "id": "237568b4-be6c-4635-a35a-476a08245041",
   "metadata": {},
   "outputs": [],
   "source": [
    "found_matches = matcher(doc)\n",
    "print(found_matches)"
   ]
  },
  {
   "cell_type": "code",
   "execution_count": null,
   "id": "00623b8d-7f0c-43f0-a9f2-078146c6da20",
   "metadata": {},
   "outputs": [],
   "source": [
    "pattern1 = [{'LOWER': 'solarpower'}]\n",
    "pattern2 = [{'LOWER': 'solar'}, {'IS_PUNCT': True, 'op':'*'}, {'LEMMA': 'power'}]\n",
    "\n",
    "#remove the old patterns to aviod duplication\n",
    "\n",
    "matcher.remove('solarpower')\n",
    "matcher.add('solarpower', [pattern1, pattern2])"
   ]
  },
  {
   "cell_type": "code",
   "execution_count": null,
   "id": "98669d89-636a-496d-b4d8-96c46f74d025",
   "metadata": {},
   "outputs": [],
   "source": [
    "doc2=nlp(u'solar-powered energy runs solar-powered cars.')"
   ]
  },
  {
   "cell_type": "code",
   "execution_count": null,
   "id": "b722a0c3-969f-4171-aee1-6adc9242a73e",
   "metadata": {},
   "outputs": [],
   "source": [
    "found_matches= matcher(doc2)\n",
    "print(found_matches)"
   ]
  },
  {
   "cell_type": "code",
   "execution_count": null,
   "id": "415fbe8c-316f-498d-b120-9705ae65be9a",
   "metadata": {},
   "outputs": [],
   "source": [
    "#phrase matcher\n",
    "#perform standard imports, resetnlp\n",
    "\n",
    "import spacy\n",
    "nlp = spacy.load('en_core_web_sm')"
   ]
  },
  {
   "cell_type": "code",
   "execution_count": null,
   "id": "0c5b7da4-ad82-4c9e-bc3d-207c6aa5ad6f",
   "metadata": {},
   "outputs": [],
   "source": [
    "#import the  phrasematcher library\n",
    "from spacy.matcher import PhraseMatcher\n",
    "matcher = PhraseMatcher(nlp.vocab)"
   ]
  },
  {
   "cell_type": "code",
   "execution_count": null,
   "id": "fe61b95c-8b91-4011-99c8-a56e85c6113c",
   "metadata": {},
   "outputs": [],
   "source": [
    "with open('reaganomics.txt','r') as f:\n",
    "    doc3= nlp(f.read())"
   ]
  },
  {
   "cell_type": "code",
   "execution_count": null,
   "id": "ead5b596-cbcc-4118-a0cb-3674d8d4741e",
   "metadata": {},
   "outputs": [],
   "source": [
    "#first, create a list of match phrases:\n",
    "phrase_list= {'voodoo economics', 'supply-side economice', 'trickle_down economics', 'free-market economice']\n",
    "\n",
    "#next, convert each phrase to a doc object\n",
    "phrase_patterns = [nlp(text) for in phrase_list]\n",
    "\n",
    "#pass each "
   ]
  },
  {
   "cell_type": "code",
   "execution_count": null,
   "id": "c7a41cb0-37e7-4312-b965-a05caeea40f2",
   "metadata": {},
   "outputs": [],
   "source": []
  },
  {
   "cell_type": "code",
   "execution_count": null,
   "id": "c6c34af7-70d5-4d37-9808-c61038f3e7f4",
   "metadata": {},
   "outputs": [],
   "source": []
  },
  {
   "cell_type": "code",
   "execution_count": null,
   "id": "61515b8c-2f88-498d-b63d-61c2b5d943d4",
   "metadata": {},
   "outputs": [],
   "source": []
  }
 ],
 "metadata": {
  "kernelspec": {
   "display_name": "Python 3 (ipykernel)",
   "language": "python",
   "name": "python3"
  },
  "language_info": {
   "codemirror_mode": {
    "name": "ipython",
    "version": 3
   },
   "file_extension": ".py",
   "mimetype": "text/x-python",
   "name": "python",
   "nbconvert_exporter": "python",
   "pygments_lexer": "ipython3",
   "version": "3.12.8"
  }
 },
 "nbformat": 4,
 "nbformat_minor": 5
}
